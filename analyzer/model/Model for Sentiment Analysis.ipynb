{
 "cells": [
  {
   "cell_type": "code",
   "execution_count": 1,
   "id": "fbba2ac6",
   "metadata": {},
   "outputs": [],
   "source": [
    "import pandas as pd\n",
    "import numpy as np\n",
    "import matplotlib.pyplot as plt\n",
    "import warnings\n",
    "import re\n",
    "from nltk.corpus import stopwords\n",
    "import pickle\n",
    "warnings.filterwarnings('ignore')\n",
    "%matplotlib inline"
   ]
  },
  {
   "cell_type": "code",
   "execution_count": 2,
   "id": "6fb9d7fd",
   "metadata": {},
   "outputs": [],
   "source": [
    "from sklearn.model_selection import train_test_split\n",
    "from keras.preprocessing.text import Tokenizer\n",
    "from keras.preprocessing.sequence import pad_sequences\n",
    "from keras.models import Sequential\n",
    "from keras.layers import Dense\n",
    "from keras.layers import LSTM\n",
    "from keras.layers import Dropout\n",
    "from keras.layers import Embedding\n",
    "from tensorflow.keras.callbacks import Callback\n",
    "from tensorflow.keras.callbacks import ModelCheckpoint"
   ]
  },
  {
   "cell_type": "code",
   "execution_count": 3,
   "id": "3d32ab39",
   "metadata": {},
   "outputs": [],
   "source": [
    "stopWord=stopwords.words(\"english\")\n",
    "stopWord.remove('not')"
   ]
  },
  {
   "cell_type": "code",
   "execution_count": 4,
   "id": "81e34f1e",
   "metadata": {},
   "outputs": [],
   "source": [
    "df=pd.read_csv(\"Reviews.csv\")"
   ]
  },
  {
   "cell_type": "code",
   "execution_count": 5,
   "id": "ea676f50",
   "metadata": {},
   "outputs": [],
   "source": [
    "df.dropna(inplace=True,subset=[\"ProductId\",\"Text\",\"Score\"])"
   ]
  },
  {
   "cell_type": "code",
   "execution_count": 6,
   "id": "9bfd0eac",
   "metadata": {},
   "outputs": [],
   "source": [
    "df.drop(\"Id\",axis=1,inplace=True)"
   ]
  },
  {
   "cell_type": "code",
   "execution_count": 7,
   "id": "0bcc2cd8",
   "metadata": {},
   "outputs": [],
   "source": [
    "reviews_df=df[[\"Text\",\"Score\"]]"
   ]
  },
  {
   "cell_type": "code",
   "execution_count": 8,
   "id": "12cbf764",
   "metadata": {},
   "outputs": [],
   "source": [
    "def cleaning_noise(String):\n",
    "    tags = re.compile('<.*?>')\n",
    "    string_without_tags = re.sub(tags, \" \", String)\n",
    "    string_without_url = re.sub(r'[\\S]*\\.(net|com|org|info|edu|gov|uk|de|ca|jp|fr|au|us|ru|ch|it|nel|se|no|es|mil)[\\S]*\\s?|[\\S]*@gmail','',string_without_tags)\n",
    "    string_without_punc=re.sub(r'[^a-zA-Z]',' ',string_without_url)\n",
    "    noise_free_review=[i for i in string_without_punc.split() if i not in stopWord ]\n",
    "    noise_free_review=' '.join(noise_free_review)\n",
    "    return noise_free_review"
   ]
  },
  {
   "cell_type": "code",
   "execution_count": 9,
   "id": "7fd301c5",
   "metadata": {},
   "outputs": [],
   "source": [
    "reviews_df[\"Text\"]=reviews_df[\"Text\"].apply(cleaning_noise)"
   ]
  },
  {
   "cell_type": "raw",
   "id": "e70188da",
   "metadata": {},
   "source": [
    "reviews_df[\"Text\"].apply(lambda x:len(x.split(\" \"))).hist()"
   ]
  },
  {
   "cell_type": "code",
   "execution_count": 10,
   "id": "ac54f709",
   "metadata": {},
   "outputs": [],
   "source": [
    "reviews_df=reviews_df[reviews_df[\"Text\"].apply(lambda x:len(x.split(\" \"))in range(1,250))]"
   ]
  },
  {
   "cell_type": "code",
   "execution_count": 11,
   "id": "1902f089",
   "metadata": {},
   "outputs": [],
   "source": [
    "corpus=reviews_df[\"Text\"].values"
   ]
  },
  {
   "cell_type": "code",
   "execution_count": 12,
   "id": "4516fea7",
   "metadata": {},
   "outputs": [],
   "source": [
    "def change_score(score):\n",
    "    if(score<3):\n",
    "        return 0\n",
    "    else:\n",
    "        return 1"
   ]
  },
  {
   "cell_type": "code",
   "execution_count": 13,
   "id": "3bf22c08",
   "metadata": {},
   "outputs": [],
   "source": [
    "y_data=reviews_df[\"Score\"].apply(change_score).values"
   ]
  },
  {
   "cell_type": "code",
   "execution_count": 14,
   "id": "c23975cb",
   "metadata": {},
   "outputs": [
    {
     "data": {
      "text/plain": [
       "array([1, 0, 1, ..., 1, 1, 1], dtype=int64)"
      ]
     },
     "execution_count": 14,
     "metadata": {},
     "output_type": "execute_result"
    }
   ],
   "source": [
    "y_data"
   ]
  },
  {
   "cell_type": "code",
   "execution_count": 17,
   "id": "b72b7a85",
   "metadata": {},
   "outputs": [],
   "source": [
    "num_words=102354  #num_words = len(data.word_index) + 1"
   ]
  },
  {
   "cell_type": "code",
   "execution_count": 18,
   "id": "3819bd0a",
   "metadata": {},
   "outputs": [],
   "source": [
    "data=Tokenizer(num_words=num_words)\n",
    "data.fit_on_texts(corpus)\n",
    "x_data=data.texts_to_sequences(corpus)\n",
    "x_data=pad_sequences(x_data,padding=\"pre\")"
   ]
  },
  {
   "cell_type": "code",
   "execution_count": 20,
   "id": "c8c02eae",
   "metadata": {},
   "outputs": [],
   "source": [
    "with open('tokenizer.pickle', 'wb') as handle:\n",
    "    pickle.dump(data, handle, protocol=pickle.HIGHEST_PROTOCOL)"
   ]
  },
  {
   "cell_type": "code",
   "execution_count": 22,
   "id": "64014daf",
   "metadata": {},
   "outputs": [
    {
     "data": {
      "text/plain": [
       "array([[    0,     0,     0, ...,  8361,    12,    36],\n",
       "       [    0,     0,     0, ...,  7874,    12,  5364],\n",
       "       [    0,     0,     0, ...,  2146,  6690, 12790],\n",
       "       ...,\n",
       "       [    0,     0,     0, ...,     3,    38,    17],\n",
       "       [    0,     0,     0, ...,   793,  3863,   126],\n",
       "       [    0,     0,     0, ...,   702,  1164,  2464]])"
      ]
     },
     "execution_count": 22,
     "metadata": {},
     "output_type": "execute_result"
    }
   ],
   "source": [
    "x_data"
   ]
  },
  {
   "cell_type": "code",
   "execution_count": 23,
   "id": "165c07e0",
   "metadata": {},
   "outputs": [],
   "source": [
    "x_train, x_test, y_train, y_test = train_test_split(x_data, y_data, test_size = 0.40, random_state = 0)"
   ]
  },
  {
   "cell_type": "code",
   "execution_count": 24,
   "id": "35e111d6",
   "metadata": {},
   "outputs": [],
   "source": [
    "model = Sequential()\n",
    "model.add(Embedding(num_words,8))\n",
    "model.add(LSTM(units = 50,return_sequences = True))\n",
    "model.add(Dropout(0.2))\n",
    "model.add(LSTM(units = 50,return_sequences=True))\n",
    "model.add(Dropout(0.2))\n",
    "model.add(LSTM(units = 50))\n",
    "model.add(Dropout(0.2))\n",
    "model.add(Dense(units = 1,activation='sigmoid'))\n",
    "model.compile(optimizer=\"adam\",loss='binary_crossentropy',metrics=[\"accuracy\"])"
   ]
  },
  {
   "cell_type": "code",
   "execution_count": 25,
   "id": "0d8b22d8",
   "metadata": {},
   "outputs": [],
   "source": [
    "Val_ACCURACY_THRESHOLD = 0.95\n",
    "ACCURACY_THRESHOLD = 0.98\n",
    "class myCallback(Callback):\n",
    "    def on_epoch_end(self, epoch, logs={}):\n",
    "        if(logs.get('val_accuracy') > Val_ACCURACY_THRESHOLD):\n",
    "            self.model.stop_training = True\n",
    "        elif(logs.get('accuracy') > ACCURACY_THRESHOLD):\n",
    "            self.model.stop_training = True\n",
    "callbacks = myCallback()\n",
    "\n",
    "\n",
    "checkpointer = ModelCheckpoint(filepath=\"model.hdf5\",monitor='val_accuracy',save_best_only=True)"
   ]
  },
  {
   "cell_type": "code",
   "execution_count": 26,
   "id": "7d5ffe5b",
   "metadata": {},
   "outputs": [
    {
     "name": "stdout",
     "output_type": "stream",
     "text": [
      "Epoch 1/5\n",
      "662/662 [==============================] - 31218s 47s/step - loss: 0.2462 - accuracy: 0.9046 - val_loss: 0.1923 - val_accuracy: 0.9231\n",
      "Epoch 2/5\n",
      "662/662 [==============================] - 3878s 6s/step - loss: 0.1745 - accuracy: 0.9312 - val_loss: 0.1846 - val_accuracy: 0.9273\n",
      "Epoch 3/5\n",
      "662/662 [==============================] - 6785s 10s/step - loss: 0.1527 - accuracy: 0.9410 - val_loss: 0.1784 - val_accuracy: 0.9322\n",
      "Epoch 4/5\n",
      "662/662 [==============================] - 7496s 11s/step - loss: 0.1345 - accuracy: 0.9484 - val_loss: 0.1764 - val_accuracy: 0.9314\n",
      "Epoch 5/5\n",
      "662/662 [==============================] - 4399s 7s/step - loss: 0.1189 - accuracy: 0.9551 - val_loss: 0.1933 - val_accuracy: 0.9334\n"
     ]
    },
    {
     "data": {
      "text/plain": [
       "<keras.callbacks.History at 0x204896c9b80>"
      ]
     },
     "execution_count": 26,
     "metadata": {},
     "output_type": "execute_result"
    }
   ],
   "source": [
    "model.fit(x_train,y_train,epochs = 5,batch_size=512,validation_data=(x_test,y_test),callbacks=[callbacks,checkpointer])"
   ]
  },
  {
   "cell_type": "code",
   "execution_count": 27,
   "id": "00559930",
   "metadata": {},
   "outputs": [],
   "source": [
    "with open(\"model.json\", \"w\") as json_file:\n",
    "    json_file.write(model.to_json())"
   ]
  }
 ],
 "metadata": {
  "kernelspec": {
   "display_name": "Python 3",
   "language": "python",
   "name": "python3"
  },
  "language_info": {
   "codemirror_mode": {
    "name": "ipython",
    "version": 3
   },
   "file_extension": ".py",
   "mimetype": "text/x-python",
   "name": "python",
   "nbconvert_exporter": "python",
   "pygments_lexer": "ipython3",
   "version": "3.8.8"
  }
 },
 "nbformat": 4,
 "nbformat_minor": 5
}
